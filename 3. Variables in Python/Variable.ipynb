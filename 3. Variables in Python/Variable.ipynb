{
 "cells": [
  {
   "cell_type": "markdown",
   "id": "6a946e91-2f2b-4634-bb43-b684539c3f09",
   "metadata": {},
   "source": [
    "### Variable"
   ]
  },
  {
   "cell_type": "markdown",
   "id": "afec254d-1b9b-4c59-8c77-9bac4d754226",
   "metadata": {},
   "source": [
    "**Variables** are *containers* used to label and store values."
   ]
  },
  {
   "cell_type": "code",
   "execution_count": 124,
   "id": "adac146c-7cae-40f3-b4a9-c08492579203",
   "metadata": {},
   "outputs": [
    {
     "data": {
      "text/plain": [
       "1"
      ]
     },
     "execution_count": 124,
     "metadata": {},
     "output_type": "execute_result"
    }
   ],
   "source": [
    "x"
   ]
  },
  {
   "cell_type": "code",
   "execution_count": 1,
   "id": "3f35e187-aec4-4ef7-a212-b7a54080c8b9",
   "metadata": {},
   "outputs": [],
   "source": [
    "x = 1"
   ]
  },
  {
   "cell_type": "code",
   "execution_count": 3,
   "id": "9ef16d9a-183e-44b9-9dd8-2c4bc888a19b",
   "metadata": {},
   "outputs": [
    {
     "data": {
      "text/plain": [
       "2"
      ]
     },
     "execution_count": 3,
     "metadata": {},
     "output_type": "execute_result"
    }
   ],
   "source": [
    "x + 1"
   ]
  },
  {
   "cell_type": "code",
   "execution_count": 5,
   "id": "8e83977b-7ab2-4c76-a08b-f747d3f50f23",
   "metadata": {},
   "outputs": [
    {
     "data": {
      "text/plain": [
       "39600.0"
      ]
     },
     "execution_count": 5,
     "metadata": {},
     "output_type": "execute_result"
    }
   ],
   "source": [
    "price = 9.9 # $\n",
    "price * 4000"
   ]
  },
  {
   "cell_type": "code",
   "execution_count": 7,
   "id": "9a25f56b-9a3a-4ed5-b5a3-10be4ac06afa",
   "metadata": {},
   "outputs": [
    {
     "data": {
      "text/plain": [
       "9.9"
      ]
     },
     "execution_count": 7,
     "metadata": {},
     "output_type": "execute_result"
    }
   ],
   "source": [
    "price"
   ]
  },
  {
   "cell_type": "code",
   "execution_count": 9,
   "id": "6e73936c-a314-468d-9b29-797dfbdb58d5",
   "metadata": {},
   "outputs": [],
   "source": [
    "city = 'Losangles'"
   ]
  },
  {
   "cell_type": "code",
   "execution_count": 11,
   "id": "f1b3fec9-b3ff-466e-bc1c-e539e1a07495",
   "metadata": {},
   "outputs": [
    {
     "data": {
      "text/plain": [
       "'Losangles'"
      ]
     },
     "execution_count": 11,
     "metadata": {},
     "output_type": "execute_result"
    }
   ],
   "source": [
    "city"
   ]
  },
  {
   "cell_type": "code",
   "execution_count": 13,
   "id": "b48d0818-153c-44a7-af32-f3f41b499bbc",
   "metadata": {},
   "outputs": [],
   "source": [
    "height = '2'"
   ]
  },
  {
   "cell_type": "code",
   "execution_count": 15,
   "id": "7380b011-5634-4185-9cf1-f16b9e0f1e29",
   "metadata": {},
   "outputs": [
    {
     "data": {
      "text/plain": [
       "'2'"
      ]
     },
     "execution_count": 15,
     "metadata": {},
     "output_type": "execute_result"
    }
   ],
   "source": [
    "height"
   ]
  },
  {
   "cell_type": "code",
   "execution_count": 17,
   "id": "70f742ce-ac63-4f52-8426-3e911decf831",
   "metadata": {},
   "outputs": [
    {
     "data": {
      "text/plain": [
       "str"
      ]
     },
     "execution_count": 17,
     "metadata": {},
     "output_type": "execute_result"
    }
   ],
   "source": [
    "type(height) # str : strings : text"
   ]
  },
  {
   "cell_type": "code",
   "execution_count": 19,
   "id": "cdc078ab-be26-4bc7-a674-fa791ccb7571",
   "metadata": {},
   "outputs": [
    {
     "data": {
      "text/plain": [
       "'Manon'"
      ]
     },
     "execution_count": 19,
     "metadata": {},
     "output_type": "execute_result"
    }
   ],
   "source": [
    "name = 'Manon'\n",
    "name"
   ]
  },
  {
   "cell_type": "code",
   "execution_count": null,
   "id": "8d3dc98d-9551-4eaf-8924-413eca30df6f",
   "metadata": {},
   "outputs": [],
   "source": []
  },
  {
   "cell_type": "code",
   "execution_count": 31,
   "id": "e514bd79-c766-4ec7-9c9e-79a7216ad29d",
   "metadata": {},
   "outputs": [],
   "source": [
    "a1 = 1"
   ]
  },
  {
   "cell_type": "code",
   "execution_count": 33,
   "id": "d0a43381-9607-4d63-b9f6-53b46c57630f",
   "metadata": {},
   "outputs": [],
   "source": [
    "a2 = 2"
   ]
  },
  {
   "cell_type": "code",
   "execution_count": 25,
   "id": "15c6511b-4836-462b-9c5a-6977eee50c0c",
   "metadata": {},
   "outputs": [
    {
     "data": {
      "text/plain": [
       "2"
      ]
     },
     "execution_count": 25,
     "metadata": {},
     "output_type": "execute_result"
    }
   ],
   "source": [
    "## shif + Enter"
   ]
  },
  {
   "cell_type": "code",
   "execution_count": 27,
   "id": "e6e226b2-0f05-4176-94a5-ec7794917669",
   "metadata": {},
   "outputs": [],
   "source": [
    "a = 3"
   ]
  },
  {
   "cell_type": "code",
   "execution_count": 29,
   "id": "927a7aca-99e2-44a3-982b-60202e2841bd",
   "metadata": {},
   "outputs": [
    {
     "data": {
      "text/plain": [
       "3"
      ]
     },
     "execution_count": 29,
     "metadata": {},
     "output_type": "execute_result"
    }
   ],
   "source": [
    "a"
   ]
  },
  {
   "cell_type": "code",
   "execution_count": 35,
   "id": "ed093ced-5c5d-4bcf-9ab8-3860cd5c6a17",
   "metadata": {},
   "outputs": [],
   "source": [
    "del a1"
   ]
  },
  {
   "cell_type": "code",
   "execution_count": 43,
   "id": "027208c8-fb52-4d50-b6b1-cb1d99b93294",
   "metadata": {},
   "outputs": [
    {
     "data": {
      "text/plain": [
       "3"
      ]
     },
     "execution_count": 43,
     "metadata": {},
     "output_type": "execute_result"
    }
   ],
   "source": [
    "a2\n",
    "a\n"
   ]
  },
  {
   "cell_type": "code",
   "execution_count": 37,
   "id": "a867ee6f-d735-41a8-a229-f774a7bbaf06",
   "metadata": {},
   "outputs": [
    {
     "ename": "NameError",
     "evalue": "name 'a1' is not defined",
     "output_type": "error",
     "traceback": [
      "\u001b[0;31m---------------------------------------------------------------------------\u001b[0m",
      "\u001b[0;31mNameError\u001b[0m                                 Traceback (most recent call last)",
      "Cell \u001b[0;32mIn[37], line 1\u001b[0m\n\u001b[0;32m----> 1\u001b[0m a1\n",
      "\u001b[0;31mNameError\u001b[0m: name 'a1' is not defined"
     ]
    }
   ],
   "source": [
    "a1  # NameError "
   ]
  },
  {
   "cell_type": "code",
   "execution_count": 45,
   "id": "b79fd852-a576-4c43-ba84-b90b7f742b06",
   "metadata": {},
   "outputs": [
    {
     "ename": "NameError",
     "evalue": "name 'd1' is not defined",
     "output_type": "error",
     "traceback": [
      "\u001b[0;31m---------------------------------------------------------------------------\u001b[0m",
      "\u001b[0;31mNameError\u001b[0m                                 Traceback (most recent call last)",
      "Cell \u001b[0;32mIn[45], line 1\u001b[0m\n\u001b[0;32m----> 1\u001b[0m d1\n",
      "\u001b[0;31mNameError\u001b[0m: name 'd1' is not defined"
     ]
    }
   ],
   "source": [
    "d1 "
   ]
  },
  {
   "cell_type": "code",
   "execution_count": 47,
   "id": "a2d2fd14-88e1-40f3-a5f5-224ab8de9da3",
   "metadata": {},
   "outputs": [
    {
     "ename": "SyntaxError",
     "evalue": "invalid decimal literal (3233142308.py, line 1)",
     "output_type": "error",
     "traceback": [
      "\u001b[0;36m  Cell \u001b[0;32mIn[47], line 1\u001b[0;36m\u001b[0m\n\u001b[0;31m    1a\u001b[0m\n\u001b[0m    ^\u001b[0m\n\u001b[0;31mSyntaxError\u001b[0m\u001b[0;31m:\u001b[0m invalid decimal literal\n"
     ]
    }
   ],
   "source": [
    "_1a #"
   ]
  },
  {
   "cell_type": "code",
   "execution_count": 49,
   "id": "8511113e-b717-4197-bdc1-e046ae9678d2",
   "metadata": {},
   "outputs": [
    {
     "ename": "NameError",
     "evalue": "name 'A' is not defined",
     "output_type": "error",
     "traceback": [
      "\u001b[0;31m---------------------------------------------------------------------------\u001b[0m",
      "\u001b[0;31mNameError\u001b[0m                                 Traceback (most recent call last)",
      "Cell \u001b[0;32mIn[49], line 1\u001b[0m\n\u001b[0;32m----> 1\u001b[0m A\n",
      "\u001b[0;31mNameError\u001b[0m: name 'A' is not defined"
     ]
    }
   ],
   "source": [
    "A"
   ]
  },
  {
   "cell_type": "code",
   "execution_count": 51,
   "id": "7d337097-c0e3-4a1e-8c4c-a15d292397fe",
   "metadata": {},
   "outputs": [
    {
     "ename": "SyntaxError",
     "evalue": "invalid syntax (3526887728.py, line 1)",
     "output_type": "error",
     "traceback": [
      "\u001b[0;36m  Cell \u001b[0;32mIn[51], line 1\u001b[0;36m\u001b[0m\n\u001b[0;31m    del = 1\u001b[0m\n\u001b[0m        ^\u001b[0m\n\u001b[0;31mSyntaxError\u001b[0m\u001b[0;31m:\u001b[0m invalid syntax\n"
     ]
    }
   ],
   "source": [
    "del = 1"
   ]
  },
  {
   "cell_type": "code",
   "execution_count": 53,
   "id": "0b40b260-c103-4b39-8153-1a83dc37b65e",
   "metadata": {},
   "outputs": [],
   "source": [
    "list = 2"
   ]
  },
  {
   "cell_type": "code",
   "execution_count": 59,
   "id": "33f11155-61ee-4a47-92f6-6e1927977b95",
   "metadata": {},
   "outputs": [
    {
     "ename": "TypeError",
     "evalue": "'int' object is not callable",
     "output_type": "error",
     "traceback": [
      "\u001b[0;31m---------------------------------------------------------------------------\u001b[0m",
      "\u001b[0;31mTypeError\u001b[0m                                 Traceback (most recent call last)",
      "Cell \u001b[0;32mIn[59], line 1\u001b[0m\n\u001b[0;32m----> 1\u001b[0m \u001b[38;5;28mlist\u001b[39m([\u001b[38;5;241m23\u001b[39m])\n",
      "\u001b[0;31mTypeError\u001b[0m: 'int' object is not callable"
     ]
    }
   ],
   "source": [
    "list([23])"
   ]
  },
  {
   "cell_type": "code",
   "execution_count": 63,
   "id": "5e26d2b3-2def-4937-8cbf-cc064ed6d68e",
   "metadata": {},
   "outputs": [],
   "source": [
    "price_list_201 = 201.1"
   ]
  },
  {
   "cell_type": "code",
   "execution_count": 65,
   "id": "27745373-b449-4bc5-9a3b-ee27cb116b0c",
   "metadata": {},
   "outputs": [],
   "source": [
    "PRICE_LIST_202 = 23134148961376143413"
   ]
  },
  {
   "cell_type": "code",
   "execution_count": 67,
   "id": "bd590517-ad2c-479c-b352-36e87b066034",
   "metadata": {},
   "outputs": [
    {
     "data": {
      "text/plain": [
       "46268297922752286826"
      ]
     },
     "execution_count": 67,
     "metadata": {},
     "output_type": "execute_result"
    }
   ],
   "source": [
    "PRICE_LIST_202*2"
   ]
  },
  {
   "cell_type": "code",
   "execution_count": 69,
   "id": "a9da2d96-da2b-428a-b3b7-a8f90c6c3443",
   "metadata": {},
   "outputs": [
    {
     "data": {
      "text/plain": [
       "1.1567074480688073e+19"
      ]
     },
     "execution_count": 69,
     "metadata": {},
     "output_type": "execute_result"
    }
   ],
   "source": [
    "PRICE_LIST_202/2"
   ]
  },
  {
   "cell_type": "code",
   "execution_count": 73,
   "id": "0601ccb1-2929-4af3-856c-999554191067",
   "metadata": {},
   "outputs": [
    {
     "data": {
      "text/plain": [
       "286427103202470990141708756261933145302629105697821585132688047600728006067761"
      ]
     },
     "execution_count": 73,
     "metadata": {},
     "output_type": "execute_result"
    }
   ],
   "source": [
    "PRICE_LIST_202**4 # **"
   ]
  },
  {
   "cell_type": "code",
   "execution_count": 81,
   "id": "8d202176-ecc8-48b0-913c-87166c5b8624",
   "metadata": {},
   "outputs": [
    {
     "data": {
      "text/plain": [
       "9.294214181097717"
      ]
     },
     "execution_count": 81,
     "metadata": {},
     "output_type": "execute_result"
    }
   ],
   "source": [
    "PRICE_LIST_202**(1/20)"
   ]
  },
  {
   "cell_type": "code",
   "execution_count": 83,
   "id": "27e424c8-b6f7-406e-ab9b-347872123246",
   "metadata": {},
   "outputs": [
    {
     "data": {
      "text/plain": [
       "23134148961376143413"
      ]
     },
     "execution_count": 83,
     "metadata": {},
     "output_type": "execute_result"
    }
   ],
   "source": [
    "PRICE_LIST_202"
   ]
  },
  {
   "cell_type": "code",
   "execution_count": 85,
   "id": "db4937ad-ac01-4c7f-9c06-0225f1f1a701",
   "metadata": {},
   "outputs": [],
   "source": [
    "Price_2 = 4"
   ]
  },
  {
   "cell_type": "code",
   "execution_count": 91,
   "id": "486222a9-1962-4e12-9423-bd8138125c27",
   "metadata": {},
   "outputs": [
    {
     "data": {
      "text/plain": [
       "16"
      ]
     },
     "execution_count": 91,
     "metadata": {},
     "output_type": "execute_result"
    }
   ],
   "source": [
    "Price_2**2"
   ]
  },
  {
   "cell_type": "code",
   "execution_count": 93,
   "id": "458ab9d0-327c-4a65-9e36-f8c3433472ba",
   "metadata": {},
   "outputs": [
    {
     "data": {
      "text/plain": [
       "2.0"
      ]
     },
     "execution_count": 93,
     "metadata": {},
     "output_type": "execute_result"
    }
   ],
   "source": [
    "Price_2/2"
   ]
  },
  {
   "cell_type": "code",
   "execution_count": 95,
   "id": "66dcde18-0a0d-458d-9fdd-5e2edb0b8fdb",
   "metadata": {},
   "outputs": [
    {
     "data": {
      "text/plain": [
       "0"
      ]
     },
     "execution_count": 95,
     "metadata": {},
     "output_type": "execute_result"
    }
   ],
   "source": [
    "Price_2 % 2"
   ]
  },
  {
   "cell_type": "code",
   "execution_count": 97,
   "id": "c2329b29-a5a3-4dcf-8611-a9ac7d51a5d9",
   "metadata": {},
   "outputs": [],
   "source": [
    "Price3 = 5"
   ]
  },
  {
   "cell_type": "code",
   "execution_count": 99,
   "id": "807ec30b-15a7-45f2-84d0-c2195859bbab",
   "metadata": {},
   "outputs": [
    {
     "data": {
      "text/plain": [
       "1"
      ]
     },
     "execution_count": 99,
     "metadata": {},
     "output_type": "execute_result"
    }
   ],
   "source": [
    "Price3 % 2"
   ]
  },
  {
   "cell_type": "code",
   "execution_count": 101,
   "id": "6c1ecb69-7f14-458b-a2b8-20dfa61c8382",
   "metadata": {},
   "outputs": [
    {
     "data": {
      "text/plain": [
       "9.9"
      ]
     },
     "execution_count": 101,
     "metadata": {},
     "output_type": "execute_result"
    }
   ],
   "source": [
    "price"
   ]
  },
  {
   "cell_type": "code",
   "execution_count": 103,
   "id": "4bafc887-8837-42cf-977e-f4a5a98d0bbb",
   "metadata": {},
   "outputs": [],
   "source": [
    "price = 10"
   ]
  },
  {
   "cell_type": "code",
   "execution_count": 105,
   "id": "0ce3ddd0-2046-4d59-8c95-7a1a802a654a",
   "metadata": {},
   "outputs": [
    {
     "data": {
      "text/plain": [
       "10"
      ]
     },
     "execution_count": 105,
     "metadata": {},
     "output_type": "execute_result"
    }
   ],
   "source": [
    "price"
   ]
  },
  {
   "cell_type": "code",
   "execution_count": null,
   "id": "808f833e-3697-4448-b285-4c2506491e08",
   "metadata": {},
   "outputs": [],
   "source": [
    "price = 13"
   ]
  },
  {
   "cell_type": "code",
   "execution_count": 107,
   "id": "fe517048-8039-4e9a-8a2a-6e554e1960d1",
   "metadata": {},
   "outputs": [
    {
     "data": {
      "text/plain": [
       "10"
      ]
     },
     "execution_count": 107,
     "metadata": {},
     "output_type": "execute_result"
    }
   ],
   "source": [
    "price"
   ]
  },
  {
   "cell_type": "code",
   "execution_count": 109,
   "id": "4c911bf1-9f5d-4f77-a756-5bbea08fc7a2",
   "metadata": {},
   "outputs": [
    {
     "ename": "SyntaxError",
     "evalue": "invalid decimal literal (2970311175.py, line 1)",
     "output_type": "error",
     "traceback": [
      "\u001b[0;36m  Cell \u001b[0;32mIn[109], line 1\u001b[0;36m\u001b[0m\n\u001b[0;31m    2price = 2\u001b[0m\n\u001b[0m    ^\u001b[0m\n\u001b[0;31mSyntaxError\u001b[0m\u001b[0;31m:\u001b[0m invalid decimal literal\n"
     ]
    }
   ],
   "source": [
    "2price = 2"
   ]
  },
  {
   "cell_type": "code",
   "execution_count": 113,
   "id": "69ccc4bd-4a95-4f2d-a35d-f7ee71b8dce0",
   "metadata": {},
   "outputs": [],
   "source": [
    "first_name = 'Manon'"
   ]
  },
  {
   "cell_type": "code",
   "execution_count": 115,
   "id": "1f1d77b3-ca7c-49c8-929d-26ebeac16af3",
   "metadata": {},
   "outputs": [
    {
     "ename": "SyntaxError",
     "evalue": "invalid syntax (3997990690.py, line 1)",
     "output_type": "error",
     "traceback": [
      "\u001b[0;36m  Cell \u001b[0;32mIn[115], line 1\u001b[0;36m\u001b[0m\n\u001b[0;31m    lastNmae$ = 2\u001b[0m\n\u001b[0m            ^\u001b[0m\n\u001b[0;31mSyntaxError\u001b[0m\u001b[0;31m:\u001b[0m invalid syntax\n"
     ]
    }
   ],
   "source": [
    "lastNmae$ = 2"
   ]
  },
  {
   "cell_type": "code",
   "execution_count": null,
   "id": "1f8ce854-ea17-441a-8778-7a2c39ac095a",
   "metadata": {},
   "outputs": [],
   "source": []
  },
  {
   "cell_type": "code",
   "execution_count": null,
   "id": "0bac1797-ec1d-4899-84c6-af378c6b90bb",
   "metadata": {},
   "outputs": [],
   "source": []
  }
 ],
 "metadata": {
  "kernelspec": {
   "display_name": "Python 3 (ipykernel)",
   "language": "python",
   "name": "python3"
  },
  "language_info": {
   "codemirror_mode": {
    "name": "ipython",
    "version": 3
   },
   "file_extension": ".py",
   "mimetype": "text/x-python",
   "name": "python",
   "nbconvert_exporter": "python",
   "pygments_lexer": "ipython3",
   "version": "3.11.5"
  }
 },
 "nbformat": 4,
 "nbformat_minor": 5
}
