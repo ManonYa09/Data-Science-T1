{
 "cells": [
  {
   "cell_type": "code",
   "execution_count": 4,
   "id": "b9c6a9f2-7a81-4ccb-85e4-5784d1f24e76",
   "metadata": {},
   "outputs": [],
   "source": [
    "import pandas as pd ## library : module : no library name"
   ]
  },
  {
   "cell_type": "code",
   "execution_count": 24,
   "id": "d4ffd23f-0ba6-4049-8369-8f15ecf2c6cf",
   "metadata": {},
   "outputs": [],
   "source": [
    "df = pd.read_csv('https://raw.githubusercontent.com/ManonYa09/Fundametal_Data_Science_G8/refs/heads/main/Dataset/3.%20housing_data.csv')"
   ]
  },
  {
   "cell_type": "code",
   "execution_count": 28,
   "id": "ea598b25-1f9e-4fa2-9054-932352b81d1e",
   "metadata": {
    "scrolled": true
   },
   "outputs": [
    {
     "data": {
      "text/html": [
       "<div>\n",
       "<style scoped>\n",
       "    .dataframe tbody tr th:only-of-type {\n",
       "        vertical-align: middle;\n",
       "    }\n",
       "\n",
       "    .dataframe tbody tr th {\n",
       "        vertical-align: top;\n",
       "    }\n",
       "\n",
       "    .dataframe thead th {\n",
       "        text-align: right;\n",
       "    }\n",
       "</style>\n",
       "<table border=\"1\" class=\"dataframe\">\n",
       "  <thead>\n",
       "    <tr style=\"text-align: right;\">\n",
       "      <th></th>\n",
       "      <th>region_name</th>\n",
       "      <th>period_begin</th>\n",
       "      <th>period_end</th>\n",
       "      <th>total_homes_sold</th>\n",
       "      <th>inventory</th>\n",
       "      <th>active_listings</th>\n",
       "      <th>age_of_inventory</th>\n",
       "      <th>median_active_list_price</th>\n",
       "      <th>months_of_supply</th>\n",
       "    </tr>\n",
       "  </thead>\n",
       "  <tbody>\n",
       "    <tr>\n",
       "      <th>0</th>\n",
       "      <td>Appling County, GA</td>\n",
       "      <td>2020-04-27</td>\n",
       "      <td>2020-07-19</td>\n",
       "      <td>NaN</td>\n",
       "      <td>1.0</td>\n",
       "      <td>1.0</td>\n",
       "      <td>222.7</td>\n",
       "      <td>136195.8</td>\n",
       "      <td>NaN</td>\n",
       "    </tr>\n",
       "    <tr>\n",
       "      <th>1</th>\n",
       "      <td>Tooele County, UT</td>\n",
       "      <td>2018-08-27</td>\n",
       "      <td>2018-11-18</td>\n",
       "      <td>325.0</td>\n",
       "      <td>NaN</td>\n",
       "      <td>NaN</td>\n",
       "      <td>NaN</td>\n",
       "      <td>NaN</td>\n",
       "      <td>NaN</td>\n",
       "    </tr>\n",
       "    <tr>\n",
       "      <th>2</th>\n",
       "      <td>Johnson County, TX</td>\n",
       "      <td>2019-09-23</td>\n",
       "      <td>2019-12-15</td>\n",
       "      <td>577.0</td>\n",
       "      <td>717.0</td>\n",
       "      <td>778.0</td>\n",
       "      <td>63.0</td>\n",
       "      <td>268737.6</td>\n",
       "      <td>17.095583</td>\n",
       "    </tr>\n",
       "    <tr>\n",
       "      <th>3</th>\n",
       "      <td>Holmes County, OH</td>\n",
       "      <td>2017-10-09</td>\n",
       "      <td>2017-12-31</td>\n",
       "      <td>22.0</td>\n",
       "      <td>52.0</td>\n",
       "      <td>54.0</td>\n",
       "      <td>109.4</td>\n",
       "      <td>115308.3</td>\n",
       "      <td>34.050000</td>\n",
       "    </tr>\n",
       "    <tr>\n",
       "      <th>4</th>\n",
       "      <td>Madison County, FL</td>\n",
       "      <td>2017-01-09</td>\n",
       "      <td>2017-04-02</td>\n",
       "      <td>12.0</td>\n",
       "      <td>54.0</td>\n",
       "      <td>55.0</td>\n",
       "      <td>151.2</td>\n",
       "      <td>158062.5</td>\n",
       "      <td>38.300000</td>\n",
       "    </tr>\n",
       "  </tbody>\n",
       "</table>\n",
       "</div>"
      ],
      "text/plain": [
       "          region_name period_begin  period_end  total_homes_sold  inventory  \\\n",
       "0  Appling County, GA   2020-04-27  2020-07-19               NaN        1.0   \n",
       "1   Tooele County, UT   2018-08-27  2018-11-18             325.0        NaN   \n",
       "2  Johnson County, TX   2019-09-23  2019-12-15             577.0      717.0   \n",
       "3   Holmes County, OH   2017-10-09  2017-12-31              22.0       52.0   \n",
       "4  Madison County, FL   2017-01-09  2017-04-02              12.0       54.0   \n",
       "\n",
       "   active_listings  age_of_inventory  median_active_list_price  \\\n",
       "0              1.0             222.7                  136195.8   \n",
       "1              NaN               NaN                       NaN   \n",
       "2            778.0              63.0                  268737.6   \n",
       "3             54.0             109.4                  115308.3   \n",
       "4             55.0             151.2                  158062.5   \n",
       "\n",
       "   months_of_supply  \n",
       "0               NaN  \n",
       "1               NaN  \n",
       "2         17.095583  \n",
       "3         34.050000  \n",
       "4         38.300000  "
      ]
     },
     "execution_count": 28,
     "metadata": {},
     "output_type": "execute_result"
    }
   ],
   "source": [
    "df.head()"
   ]
  },
  {
   "cell_type": "code",
   "execution_count": 40,
   "id": "1b4666c4-47dd-46a9-b30f-76340b3882ef",
   "metadata": {},
   "outputs": [
    {
     "data": {
      "text/html": [
       "<div>\n",
       "<style scoped>\n",
       "    .dataframe tbody tr th:only-of-type {\n",
       "        vertical-align: middle;\n",
       "    }\n",
       "\n",
       "    .dataframe tbody tr th {\n",
       "        vertical-align: top;\n",
       "    }\n",
       "\n",
       "    .dataframe thead th {\n",
       "        text-align: right;\n",
       "    }\n",
       "</style>\n",
       "<table border=\"1\" class=\"dataframe\">\n",
       "  <thead>\n",
       "    <tr style=\"text-align: right;\">\n",
       "      <th></th>\n",
       "      <th>region_name</th>\n",
       "      <th>period_begin</th>\n",
       "      <th>period_end</th>\n",
       "      <th>total_homes_sold</th>\n",
       "      <th>inventory</th>\n",
       "      <th>active_listings</th>\n",
       "      <th>age_of_inventory</th>\n",
       "      <th>median_active_list_price</th>\n",
       "      <th>months_of_supply</th>\n",
       "    </tr>\n",
       "  </thead>\n",
       "  <tbody>\n",
       "    <tr>\n",
       "      <th>0</th>\n",
       "      <td>Appling County, GA</td>\n",
       "      <td>2020-04-27</td>\n",
       "      <td>2020-07-19</td>\n",
       "      <td>NaN</td>\n",
       "      <td>1.0</td>\n",
       "      <td>1.0</td>\n",
       "      <td>222.7</td>\n",
       "      <td>136195.8</td>\n",
       "      <td>NaN</td>\n",
       "    </tr>\n",
       "    <tr>\n",
       "      <th>7</th>\n",
       "      <td>Clark County, KY</td>\n",
       "      <td>2019-07-01</td>\n",
       "      <td>2019-09-22</td>\n",
       "      <td>145.0</td>\n",
       "      <td>119.0</td>\n",
       "      <td>130.0</td>\n",
       "      <td>50.8</td>\n",
       "      <td>152850.0</td>\n",
       "      <td>11.700912</td>\n",
       "    </tr>\n",
       "    <tr>\n",
       "      <th>14</th>\n",
       "      <td>Hanover County, VA</td>\n",
       "      <td>2021-11-08</td>\n",
       "      <td>2022-01-30</td>\n",
       "      <td>400.0</td>\n",
       "      <td>122.0</td>\n",
       "      <td>148.0</td>\n",
       "      <td>67.5</td>\n",
       "      <td>464357.2</td>\n",
       "      <td>4.961007</td>\n",
       "    </tr>\n",
       "    <tr>\n",
       "      <th>21</th>\n",
       "      <td>Menifee County, KY</td>\n",
       "      <td>2019-12-16</td>\n",
       "      <td>2020-03-08</td>\n",
       "      <td>13.0</td>\n",
       "      <td>30.0</td>\n",
       "      <td>31.0</td>\n",
       "      <td>133.2</td>\n",
       "      <td>95816.6</td>\n",
       "      <td>16.777778</td>\n",
       "    </tr>\n",
       "    <tr>\n",
       "      <th>28</th>\n",
       "      <td>Lonoke County, AR</td>\n",
       "      <td>2021-07-12</td>\n",
       "      <td>2021-10-03</td>\n",
       "      <td>417.0</td>\n",
       "      <td>239.0</td>\n",
       "      <td>276.0</td>\n",
       "      <td>30.5</td>\n",
       "      <td>198904.1</td>\n",
       "      <td>8.175049</td>\n",
       "    </tr>\n",
       "  </tbody>\n",
       "</table>\n",
       "</div>"
      ],
      "text/plain": [
       "           region_name period_begin  period_end  total_homes_sold  inventory  \\\n",
       "0   Appling County, GA   2020-04-27  2020-07-19               NaN        1.0   \n",
       "7     Clark County, KY   2019-07-01  2019-09-22             145.0      119.0   \n",
       "14  Hanover County, VA   2021-11-08  2022-01-30             400.0      122.0   \n",
       "21  Menifee County, KY   2019-12-16  2020-03-08              13.0       30.0   \n",
       "28   Lonoke County, AR   2021-07-12  2021-10-03             417.0      239.0   \n",
       "\n",
       "    active_listings  age_of_inventory  median_active_list_price  \\\n",
       "0               1.0             222.7                  136195.8   \n",
       "7             130.0              50.8                  152850.0   \n",
       "14            148.0              67.5                  464357.2   \n",
       "21             31.0             133.2                   95816.6   \n",
       "28            276.0              30.5                  198904.1   \n",
       "\n",
       "    months_of_supply  \n",
       "0                NaN  \n",
       "7          11.700912  \n",
       "14          4.961007  \n",
       "21         16.777778  \n",
       "28          8.175049  "
      ]
     },
     "execution_count": 40,
     "metadata": {},
     "output_type": "execute_result"
    }
   ],
   "source": [
    "df[::7].head(n= 5)"
   ]
  },
  {
   "cell_type": "code",
   "execution_count": 50,
   "id": "1ba3ffa4-925c-4ec0-a1aa-dc888058adeb",
   "metadata": {},
   "outputs": [],
   "source": [
    "# import pyspark"
   ]
  },
  {
   "cell_type": "code",
   "execution_count": 44,
   "id": "0dd6bb24-9eb6-46f8-8556-681a3fb66a34",
   "metadata": {},
   "outputs": [
    {
     "data": {
      "text/html": [
       "<div>\n",
       "<style scoped>\n",
       "    .dataframe tbody tr th:only-of-type {\n",
       "        vertical-align: middle;\n",
       "    }\n",
       "\n",
       "    .dataframe tbody tr th {\n",
       "        vertical-align: top;\n",
       "    }\n",
       "\n",
       "    .dataframe thead th {\n",
       "        text-align: right;\n",
       "    }\n",
       "</style>\n",
       "<table border=\"1\" class=\"dataframe\">\n",
       "  <thead>\n",
       "    <tr style=\"text-align: right;\">\n",
       "      <th></th>\n",
       "      <th>region_name</th>\n",
       "      <th>period_begin</th>\n",
       "      <th>period_end</th>\n",
       "      <th>total_homes_sold</th>\n",
       "      <th>inventory</th>\n",
       "      <th>active_listings</th>\n",
       "      <th>age_of_inventory</th>\n",
       "      <th>median_active_list_price</th>\n",
       "      <th>months_of_supply</th>\n",
       "    </tr>\n",
       "  </thead>\n",
       "  <tbody>\n",
       "    <tr>\n",
       "      <th>622304</th>\n",
       "      <td>Litchfield County, CT</td>\n",
       "      <td>2022-03-07</td>\n",
       "      <td>2022-05-29</td>\n",
       "      <td>676.0</td>\n",
       "      <td>583.0</td>\n",
       "      <td>650.0</td>\n",
       "      <td>37.0</td>\n",
       "      <td>358868.7</td>\n",
       "      <td>11.662392</td>\n",
       "    </tr>\n",
       "    <tr>\n",
       "      <th>622312</th>\n",
       "      <td>Blount County, TN</td>\n",
       "      <td>2018-05-28</td>\n",
       "      <td>2018-08-19</td>\n",
       "      <td>596.0</td>\n",
       "      <td>645.0</td>\n",
       "      <td>688.0</td>\n",
       "      <td>61.4</td>\n",
       "      <td>234049.9</td>\n",
       "      <td>14.475231</td>\n",
       "    </tr>\n",
       "    <tr>\n",
       "      <th>622320</th>\n",
       "      <td>Madison Parish, LA</td>\n",
       "      <td>2020-04-06</td>\n",
       "      <td>2020-06-28</td>\n",
       "      <td>NaN</td>\n",
       "      <td>1.0</td>\n",
       "      <td>1.0</td>\n",
       "      <td>204.5</td>\n",
       "      <td>156000.0</td>\n",
       "      <td>NaN</td>\n",
       "    </tr>\n",
       "    <tr>\n",
       "      <th>622328</th>\n",
       "      <td>Tyler County, TX</td>\n",
       "      <td>2018-09-24</td>\n",
       "      <td>2018-12-16</td>\n",
       "      <td>NaN</td>\n",
       "      <td>1.0</td>\n",
       "      <td>1.0</td>\n",
       "      <td>302.5</td>\n",
       "      <td>130000.0</td>\n",
       "      <td>NaN</td>\n",
       "    </tr>\n",
       "    <tr>\n",
       "      <th>622336</th>\n",
       "      <td>Custer County, OK</td>\n",
       "      <td>2020-02-24</td>\n",
       "      <td>2020-05-17</td>\n",
       "      <td>NaN</td>\n",
       "      <td>15.0</td>\n",
       "      <td>15.0</td>\n",
       "      <td>52.7</td>\n",
       "      <td>130120.8</td>\n",
       "      <td>NaN</td>\n",
       "    </tr>\n",
       "  </tbody>\n",
       "</table>\n",
       "</div>"
      ],
      "text/plain": [
       "                  region_name period_begin  period_end  total_homes_sold  \\\n",
       "622304  Litchfield County, CT   2022-03-07  2022-05-29             676.0   \n",
       "622312      Blount County, TN   2018-05-28  2018-08-19             596.0   \n",
       "622320     Madison Parish, LA   2020-04-06  2020-06-28               NaN   \n",
       "622328       Tyler County, TX   2018-09-24  2018-12-16               NaN   \n",
       "622336      Custer County, OK   2020-02-24  2020-05-17               NaN   \n",
       "\n",
       "        inventory  active_listings  age_of_inventory  \\\n",
       "622304      583.0            650.0              37.0   \n",
       "622312      645.0            688.0              61.4   \n",
       "622320        1.0              1.0             204.5   \n",
       "622328        1.0              1.0             302.5   \n",
       "622336       15.0             15.0              52.7   \n",
       "\n",
       "        median_active_list_price  months_of_supply  \n",
       "622304                  358868.7         11.662392  \n",
       "622312                  234049.9         14.475231  \n",
       "622320                  156000.0               NaN  \n",
       "622328                  130000.0               NaN  \n",
       "622336                  130120.8               NaN  "
      ]
     },
     "execution_count": 44,
     "metadata": {},
     "output_type": "execute_result"
    }
   ],
   "source": [
    "df[::8].tail()"
   ]
  },
  {
   "cell_type": "code",
   "execution_count": 46,
   "id": "a51f4b03-a06e-4dbb-ad2e-46a536c8c533",
   "metadata": {},
   "outputs": [
    {
     "data": {
      "text/plain": [
       "region_name                  object\n",
       "period_begin                 object\n",
       "period_end                   object\n",
       "total_homes_sold            float64\n",
       "inventory                   float64\n",
       "active_listings             float64\n",
       "age_of_inventory            float64\n",
       "median_active_list_price    float64\n",
       "months_of_supply            float64\n",
       "dtype: object"
      ]
     },
     "execution_count": 46,
     "metadata": {},
     "output_type": "execute_result"
    }
   ],
   "source": [
    "df.dtypes ### object: str , varchar:"
   ]
  },
  {
   "cell_type": "code",
   "execution_count": 52,
   "id": "f00b15d8-ed4e-4327-a5e3-47cdd04277ce",
   "metadata": {},
   "outputs": [
    {
     "data": {
      "text/plain": [
       "(622339, 9)"
      ]
     },
     "execution_count": 52,
     "metadata": {},
     "output_type": "execute_result"
    }
   ],
   "source": [
    "df.shape"
   ]
  },
  {
   "cell_type": "markdown",
   "id": "a8e309a7-2012-4ff5-9991-43f8ca408603",
   "metadata": {},
   "source": [
    "1. Display the top 5 rows of the dataset where the index is divisible by 7.\n",
    "\n",
    "2. Check the last row where the index is divisible by 8 in the dataset.\n",
    "\n"
   ]
  },
  {
   "cell_type": "markdown",
   "id": "dedfe548-5628-498b-87f9-4c2c5b1c8e1a",
   "metadata": {},
   "source": [
    "3. Exercises\n",
    "\n",
    "    a. Check Datatype of Each Column\n",
    "    \n",
    "    b. How many rows and columns are there in our Dataset?\n",
    "4. Missing values\n",
    "    - Which columns in the dataset contain missing values, and how many missing values are in each?\n",
    "    - What is the percentage of missing values in each column?\n",
    "    - Please remove the missing values.\n",
    "    - After removing the rows with missing values, save the cleaned dataset as 'final_data.csv' for providing to stakeholders."
   ]
  },
  {
   "cell_type": "code",
   "execution_count": 58,
   "id": "dfdc1865-aa81-44ea-ab7c-6fb3bcb43879",
   "metadata": {},
   "outputs": [
    {
     "data": {
      "text/plain": [
       "1"
      ]
     },
     "execution_count": 58,
     "metadata": {},
     "output_type": "execute_result"
    }
   ],
   "source": [
    "False+ True"
   ]
  },
  {
   "cell_type": "code",
   "execution_count": 64,
   "id": "431d6b7b-5f28-469f-b3d4-014c5db93af3",
   "metadata": {},
   "outputs": [
    {
     "data": {
      "text/plain": [
       "622339"
      ]
     },
     "execution_count": 64,
     "metadata": {},
     "output_type": "execute_result"
    }
   ],
   "source": [
    "df.shape[0]"
   ]
  },
  {
   "cell_type": "code",
   "execution_count": 70,
   "id": "5b1f4094-173e-4f88-8b1a-b31af33e80e3",
   "metadata": {},
   "outputs": [
    {
     "data": {
      "text/plain": [
       "region_name                 0.000000\n",
       "period_begin                0.000000\n",
       "period_end                  0.000000\n",
       "total_homes_sold            8.757285\n",
       "inventory                   0.978888\n",
       "active_listings             0.873158\n",
       "age_of_inventory            0.978888\n",
       "median_active_list_price    0.936146\n",
       "months_of_supply            9.804946\n",
       "dtype: float64"
      ]
     },
     "execution_count": 70,
     "metadata": {},
     "output_type": "execute_result"
    }
   ],
   "source": [
    "100* df.isnull().sum()/df.shape[0]"
   ]
  },
  {
   "cell_type": "code",
   "execution_count": null,
   "id": "f61678c3-5135-4739-a176-fdd814a3bb3e",
   "metadata": {},
   "outputs": [],
   "source": []
  },
  {
   "cell_type": "code",
   "execution_count": 76,
   "id": "8d37b013-0ca9-4b7c-9de5-eb992f5664d5",
   "metadata": {},
   "outputs": [],
   "source": [
    "L1 = [1,2, 3, 4, 5]"
   ]
  },
  {
   "cell_type": "code",
   "execution_count": 80,
   "id": "efc25c49-d180-48ed-a2a1-e27b376aee85",
   "metadata": {},
   "outputs": [
    {
     "data": {
      "text/plain": [
       "[1, 2, 3, 4, 5, 1, 2, 3, 4, 5]"
      ]
     },
     "execution_count": 80,
     "metadata": {},
     "output_type": "execute_result"
    }
   ],
   "source": [
    "L1*2"
   ]
  },
  {
   "cell_type": "code",
   "execution_count": 84,
   "id": "efddd446-bb05-45a8-a9ed-824938a5dc0f",
   "metadata": {},
   "outputs": [
    {
     "data": {
      "text/plain": [
       "0     2\n",
       "1     4\n",
       "2     6\n",
       "3     8\n",
       "4    10\n",
       "dtype: int64"
      ]
     },
     "execution_count": 84,
     "metadata": {},
     "output_type": "execute_result"
    }
   ],
   "source": [
    "pd.Series(L1)*2"
   ]
  },
  {
   "cell_type": "code",
   "execution_count": 72,
   "id": "e1d5c7ad-69a5-41e9-9f75-ce564a8bbebf",
   "metadata": {},
   "outputs": [
    {
     "data": {
      "text/plain": [
       "0         136195.8\n",
       "1              NaN\n",
       "2         268737.6\n",
       "3         115308.3\n",
       "4         158062.5\n",
       "            ...   \n",
       "622334     46650.0\n",
       "622335     62500.0\n",
       "622336    130120.8\n",
       "622337    115268.7\n",
       "622338    139979.1\n",
       "Name: median_active_list_price, Length: 622339, dtype: float64"
      ]
     },
     "execution_count": 72,
     "metadata": {},
     "output_type": "execute_result"
    }
   ],
   "source": [
    "df['median_active_list_price'] ## series"
   ]
  },
  {
   "cell_type": "markdown",
   "id": "1c063872-0820-40ea-888c-dcd2da94112b",
   "metadata": {},
   "source": [
    "5. Display the top six highest values in the 'median_active_list_price' column.\n",
    "\n",
    "6. Count the number of counties in California (CA) within the dataset. Save this county in a new sheet and export the corresponding data to an Excel file.\n",
    "\n",
    "7. Determine the number of regions available for specific states such as Virginia (VA), Tennessee (TN), District of Columbia (DC), California (CA), etc. Use the state name as the sheet name and save the corresponding data to an Excel file."
   ]
  }
 ],
 "metadata": {
  "kernelspec": {
   "display_name": "Python 3 (ipykernel)",
   "language": "python",
   "name": "python3"
  },
  "language_info": {
   "codemirror_mode": {
    "name": "ipython",
    "version": 3
   },
   "file_extension": ".py",
   "mimetype": "text/x-python",
   "name": "python",
   "nbconvert_exporter": "python",
   "pygments_lexer": "ipython3",
   "version": "3.11.5"
  }
 },
 "nbformat": 4,
 "nbformat_minor": 5
}
