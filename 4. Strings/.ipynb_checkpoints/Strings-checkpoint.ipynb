{
 "cells": [
  {
   "cell_type": "code",
   "execution_count": 23,
   "id": "af52f14f-5fe8-4862-98c2-30a41d13e75a",
   "metadata": {},
   "outputs": [],
   "source": [
    "import pandas as pd"
   ]
  },
  {
   "cell_type": "code",
   "execution_count": 25,
   "id": "0fcc6969-2047-43f0-b69b-a5ef9b81e217",
   "metadata": {},
   "outputs": [],
   "source": [
    "df = pd.read_csv('/Users/macbook/Downloads/archive (1) 2/transactions_data.csv')"
   ]
  },
  {
   "cell_type": "code",
   "execution_count": 49,
   "id": "3d26060d-1cb2-4402-ba67-a2c9a2b9bc88",
   "metadata": {},
   "outputs": [],
   "source": [
    "df['use_chip'] = df['use_chip'].replace({'Swipe Transaction':1})"
   ]
  },
  {
   "cell_type": "code",
   "execution_count": 43,
   "id": "487d5ed6-41d4-40d6-bc2f-52706bcab8d5",
   "metadata": {},
   "outputs": [
    {
     "data": {
      "text/plain": [
       "id                  int64\n",
       "date               object\n",
       "client_id           int64\n",
       "card_id             int64\n",
       "amount             object\n",
       "use_chip           object\n",
       "merchant_id         int64\n",
       "merchant_city      object\n",
       "merchant_state     object\n",
       "zip               float64\n",
       "mcc                 int64\n",
       "errors             object\n",
       "dtype: object"
      ]
     },
     "execution_count": 43,
     "metadata": {},
     "output_type": "execute_result"
    }
   ],
   "source": [
    "df.dtypes"
   ]
  },
  {
   "cell_type": "code",
   "execution_count": 41,
   "id": "b7bb38db-d72e-4797-95d1-6f8cd49523f5",
   "metadata": {},
   "outputs": [
    {
     "data": {
      "text/plain": [
       "id                       0\n",
       "date                     0\n",
       "client_id                0\n",
       "card_id                  0\n",
       "amount                   0\n",
       "use_chip                 0\n",
       "merchant_id              0\n",
       "merchant_city            0\n",
       "merchant_state     1563700\n",
       "zip                1652706\n",
       "mcc                      0\n",
       "errors            13094522\n",
       "dtype: int64"
      ]
     },
     "execution_count": 41,
     "metadata": {},
     "output_type": "execute_result"
    }
   ],
   "source": [
    "df.isnull().sum()"
   ]
  },
  {
   "cell_type": "code",
   "execution_count": 39,
   "id": "ef5071da-e764-4278-90de-4b131838a8f9",
   "metadata": {},
   "outputs": [
    {
     "data": {
      "text/html": [
       "<div>\n",
       "<style scoped>\n",
       "    .dataframe tbody tr th:only-of-type {\n",
       "        vertical-align: middle;\n",
       "    }\n",
       "\n",
       "    .dataframe tbody tr th {\n",
       "        vertical-align: top;\n",
       "    }\n",
       "\n",
       "    .dataframe thead th {\n",
       "        text-align: right;\n",
       "    }\n",
       "</style>\n",
       "<table border=\"1\" class=\"dataframe\">\n",
       "  <thead>\n",
       "    <tr style=\"text-align: right;\">\n",
       "      <th></th>\n",
       "      <th>id</th>\n",
       "      <th>client_id</th>\n",
       "      <th>card_id</th>\n",
       "      <th>merchant_id</th>\n",
       "      <th>zip</th>\n",
       "      <th>mcc</th>\n",
       "    </tr>\n",
       "  </thead>\n",
       "  <tbody>\n",
       "    <tr>\n",
       "      <th>count</th>\n",
       "      <td>1.330592e+07</td>\n",
       "      <td>1.330592e+07</td>\n",
       "      <td>1.330592e+07</td>\n",
       "      <td>1.330592e+07</td>\n",
       "      <td>1.165321e+07</td>\n",
       "      <td>1.330592e+07</td>\n",
       "    </tr>\n",
       "    <tr>\n",
       "      <th>mean</th>\n",
       "      <td>1.558402e+07</td>\n",
       "      <td>1.026812e+03</td>\n",
       "      <td>3.475268e+03</td>\n",
       "      <td>4.772376e+04</td>\n",
       "      <td>5.132782e+04</td>\n",
       "      <td>5.565440e+03</td>\n",
       "    </tr>\n",
       "    <tr>\n",
       "      <th>std</th>\n",
       "      <td>4.704499e+06</td>\n",
       "      <td>5.816386e+02</td>\n",
       "      <td>1.674356e+03</td>\n",
       "      <td>2.581534e+04</td>\n",
       "      <td>2.940423e+04</td>\n",
       "      <td>8.757002e+02</td>\n",
       "    </tr>\n",
       "    <tr>\n",
       "      <th>min</th>\n",
       "      <td>7.475327e+06</td>\n",
       "      <td>0.000000e+00</td>\n",
       "      <td>0.000000e+00</td>\n",
       "      <td>1.000000e+00</td>\n",
       "      <td>1.001000e+03</td>\n",
       "      <td>1.711000e+03</td>\n",
       "    </tr>\n",
       "    <tr>\n",
       "      <th>25%</th>\n",
       "      <td>1.150604e+07</td>\n",
       "      <td>5.190000e+02</td>\n",
       "      <td>2.413000e+03</td>\n",
       "      <td>2.588700e+04</td>\n",
       "      <td>2.860200e+04</td>\n",
       "      <td>5.300000e+03</td>\n",
       "    </tr>\n",
       "    <tr>\n",
       "      <th>50%</th>\n",
       "      <td>1.557087e+07</td>\n",
       "      <td>1.070000e+03</td>\n",
       "      <td>3.584000e+03</td>\n",
       "      <td>4.592600e+04</td>\n",
       "      <td>4.767000e+04</td>\n",
       "      <td>5.499000e+03</td>\n",
       "    </tr>\n",
       "    <tr>\n",
       "      <th>75%</th>\n",
       "      <td>1.965361e+07</td>\n",
       "      <td>1.531000e+03</td>\n",
       "      <td>4.901000e+03</td>\n",
       "      <td>6.757000e+04</td>\n",
       "      <td>7.790100e+04</td>\n",
       "      <td>5.812000e+03</td>\n",
       "    </tr>\n",
       "    <tr>\n",
       "      <th>max</th>\n",
       "      <td>2.376187e+07</td>\n",
       "      <td>1.998000e+03</td>\n",
       "      <td>6.144000e+03</td>\n",
       "      <td>1.003420e+05</td>\n",
       "      <td>9.992800e+04</td>\n",
       "      <td>9.402000e+03</td>\n",
       "    </tr>\n",
       "  </tbody>\n",
       "</table>\n",
       "</div>"
      ],
      "text/plain": [
       "                 id     client_id       card_id   merchant_id           zip  \\\n",
       "count  1.330592e+07  1.330592e+07  1.330592e+07  1.330592e+07  1.165321e+07   \n",
       "mean   1.558402e+07  1.026812e+03  3.475268e+03  4.772376e+04  5.132782e+04   \n",
       "std    4.704499e+06  5.816386e+02  1.674356e+03  2.581534e+04  2.940423e+04   \n",
       "min    7.475327e+06  0.000000e+00  0.000000e+00  1.000000e+00  1.001000e+03   \n",
       "25%    1.150604e+07  5.190000e+02  2.413000e+03  2.588700e+04  2.860200e+04   \n",
       "50%    1.557087e+07  1.070000e+03  3.584000e+03  4.592600e+04  4.767000e+04   \n",
       "75%    1.965361e+07  1.531000e+03  4.901000e+03  6.757000e+04  7.790100e+04   \n",
       "max    2.376187e+07  1.998000e+03  6.144000e+03  1.003420e+05  9.992800e+04   \n",
       "\n",
       "                mcc  \n",
       "count  1.330592e+07  \n",
       "mean   5.565440e+03  \n",
       "std    8.757002e+02  \n",
       "min    1.711000e+03  \n",
       "25%    5.300000e+03  \n",
       "50%    5.499000e+03  \n",
       "75%    5.812000e+03  \n",
       "max    9.402000e+03  "
      ]
     },
     "execution_count": 39,
     "metadata": {},
     "output_type": "execute_result"
    }
   ],
   "source": [
    "df.describe()"
   ]
  },
  {
   "cell_type": "code",
   "execution_count": 33,
   "id": "17204a83-a676-427d-bfc9-9f0598b5ab17",
   "metadata": {
    "scrolled": true
   },
   "outputs": [
    {
     "data": {
      "text/plain": [
       "635008336371"
      ]
     },
     "execution_count": 33,
     "metadata": {},
     "output_type": "execute_result"
    }
   ],
   "source": [
    "df['merchant_id'].sum()"
   ]
  },
  {
   "cell_type": "code",
   "execution_count": 19,
   "id": "f82b0484-acfe-427c-b677-443ba2ebcf7a",
   "metadata": {},
   "outputs": [],
   "source": [
    "x = 1"
   ]
  },
  {
   "cell_type": "code",
   "execution_count": 21,
   "id": "1ae51a68-8804-439e-9444-6a056a1b6ea2",
   "metadata": {},
   "outputs": [
    {
     "data": {
      "text/plain": [
       "1"
      ]
     },
     "execution_count": 21,
     "metadata": {},
     "output_type": "execute_result"
    }
   ],
   "source": [
    "x"
   ]
  },
  {
   "cell_type": "code",
   "execution_count": 3,
   "id": "e3fed70c-b1e2-4f48-a0d2-cbdb86e370f9",
   "metadata": {},
   "outputs": [
    {
     "data": {
      "text/plain": [
       "'Hello world'"
      ]
     },
     "execution_count": 3,
     "metadata": {},
     "output_type": "execute_result"
    }
   ],
   "source": [
    "s1 = 'Hello world'\n",
    "s1"
   ]
  },
  {
   "cell_type": "code",
   "execution_count": 9,
   "id": "8bdc40ce-90c3-4d85-83db-bf1f74fc1a0d",
   "metadata": {},
   "outputs": [
    {
     "data": {
      "text/plain": [
       "'Hello World'"
      ]
     },
     "execution_count": 9,
     "metadata": {},
     "output_type": "execute_result"
    }
   ],
   "source": [
    "s2 = \"Hello World\"\n",
    "s2"
   ]
  },
  {
   "cell_type": "code",
   "execution_count": 13,
   "id": "b1ada5c3-9aea-4da0-9bc7-7629bee9a20c",
   "metadata": {},
   "outputs": [
    {
     "data": {
      "text/plain": [
       "'Hello world'"
      ]
     },
     "execution_count": 13,
     "metadata": {},
     "output_type": "execute_result"
    }
   ],
   "source": [
    "S3 = \"\"\"Hello world\"\"\"\n",
    "S3"
   ]
  },
  {
   "cell_type": "code",
   "execution_count": 15,
   "id": "1c7536a9-7353-40df-b7a5-05e59d10dbe4",
   "metadata": {},
   "outputs": [],
   "source": [
    "S4 = '''Hello world'''"
   ]
  },
  {
   "cell_type": "code",
   "execution_count": 17,
   "id": "0782ea8d-8814-41ee-96b6-05f8204fda38",
   "metadata": {},
   "outputs": [
    {
     "data": {
      "text/plain": [
       "str"
      ]
     },
     "execution_count": 17,
     "metadata": {},
     "output_type": "execute_result"
    }
   ],
   "source": [
    "type(s1) # str: string"
   ]
  },
  {
   "cell_type": "code",
   "execution_count": 55,
   "id": "ae5f1b54-908e-40a8-bba3-776d977484a5",
   "metadata": {},
   "outputs": [
    {
     "data": {
      "text/plain": [
       "str"
      ]
     },
     "execution_count": 55,
     "metadata": {},
     "output_type": "execute_result"
    }
   ],
   "source": [
    "type('2')"
   ]
  },
  {
   "cell_type": "code",
   "execution_count": 57,
   "id": "d767e556-b563-43b3-be48-013a5d453fe6",
   "metadata": {},
   "outputs": [
    {
     "data": {
      "text/plain": [
       "'2'"
      ]
     },
     "execution_count": 57,
     "metadata": {},
     "output_type": "execute_result"
    }
   ],
   "source": [
    "\"2\""
   ]
  },
  {
   "cell_type": "code",
   "execution_count": 61,
   "id": "4b70d391-6d14-435a-965f-ab493cb964a2",
   "metadata": {},
   "outputs": [
    {
     "data": {
      "text/plain": [
       "'2'"
      ]
     },
     "execution_count": 61,
     "metadata": {},
     "output_type": "execute_result"
    }
   ],
   "source": [
    "str(2)"
   ]
  },
  {
   "cell_type": "code",
   "execution_count": 65,
   "id": "7ad46298-9b83-47e7-8522-bf465cf4fb04",
   "metadata": {},
   "outputs": [
    {
     "data": {
      "text/plain": [
       "'Hello world'"
      ]
     },
     "execution_count": 65,
     "metadata": {},
     "output_type": "execute_result"
    }
   ],
   "source": [
    "s1"
   ]
  },
  {
   "cell_type": "code",
   "execution_count": 67,
   "id": "4dbc9461-e720-485c-a882-9fc40c897266",
   "metadata": {},
   "outputs": [
    {
     "data": {
      "text/plain": [
       "'H'"
      ]
     },
     "execution_count": 67,
     "metadata": {},
     "output_type": "execute_result"
    }
   ],
   "source": [
    "s1[0]"
   ]
  },
  {
   "cell_type": "code",
   "execution_count": 69,
   "id": "18e9c0f7-d960-4f5d-b12a-bedf707229cb",
   "metadata": {},
   "outputs": [
    {
     "data": {
      "text/plain": [
       "'e'"
      ]
     },
     "execution_count": 69,
     "metadata": {},
     "output_type": "execute_result"
    }
   ],
   "source": [
    "s1[1]"
   ]
  },
  {
   "cell_type": "code",
   "execution_count": 77,
   "id": "4846b155-3dbc-443d-892a-7e1e4d87b5e9",
   "metadata": {},
   "outputs": [
    {
     "data": {
      "text/plain": [
       "'l'"
      ]
     },
     "execution_count": 77,
     "metadata": {},
     "output_type": "execute_result"
    }
   ],
   "source": [
    "s1[2]"
   ]
  },
  {
   "cell_type": "code",
   "execution_count": 79,
   "id": "5f1eb166-1051-40d7-92b1-4d61824b9745",
   "metadata": {},
   "outputs": [
    {
     "data": {
      "text/plain": [
       "11"
      ]
     },
     "execution_count": 79,
     "metadata": {},
     "output_type": "execute_result"
    }
   ],
   "source": [
    "len(s1) # [0, 1, 2, 3, 4, 5, 6, 7, 8, 9, 10]"
   ]
  },
  {
   "cell_type": "code",
   "execution_count": 81,
   "id": "167dc4ef-a4cd-4c13-9a3b-13b05c30f230",
   "metadata": {},
   "outputs": [
    {
     "data": {
      "text/plain": [
       "'Hello world'"
      ]
     },
     "execution_count": 81,
     "metadata": {},
     "output_type": "execute_result"
    }
   ],
   "source": [
    "s1"
   ]
  },
  {
   "cell_type": "code",
   "execution_count": 83,
   "id": "8b52dd4f-22e3-4313-9b66-10334c81c0f9",
   "metadata": {},
   "outputs": [
    {
     "data": {
      "text/plain": [
       "'d'"
      ]
     },
     "execution_count": 83,
     "metadata": {},
     "output_type": "execute_result"
    }
   ],
   "source": [
    "s1[-1]"
   ]
  },
  {
   "cell_type": "code",
   "execution_count": null,
   "id": "4752389e-889d-4074-9abf-3c9c3d9df909",
   "metadata": {},
   "outputs": [],
   "source": []
  },
  {
   "cell_type": "code",
   "execution_count": null,
   "id": "5fd05543-e89d-411a-8360-2f588c4b031e",
   "metadata": {},
   "outputs": [],
   "source": []
  },
  {
   "cell_type": "code",
   "execution_count": null,
   "id": "b996f3cb-ef14-471d-835b-1bb80c9d94a8",
   "metadata": {},
   "outputs": [],
   "source": []
  },
  {
   "cell_type": "code",
   "execution_count": null,
   "id": "8c8f39ec-9c86-40c9-ac53-532142e638e7",
   "metadata": {},
   "outputs": [],
   "source": []
  },
  {
   "cell_type": "code",
   "execution_count": null,
   "id": "5e21a18b-9f3f-4ee0-a264-a14142dd91a5",
   "metadata": {},
   "outputs": [],
   "source": []
  },
  {
   "cell_type": "code",
   "execution_count": 75,
   "id": "83e6f4d4-6e20-4da2-997d-3cff8679d1ae",
   "metadata": {},
   "outputs": [
    {
     "data": {
      "text/html": [
       "<div>\n",
       "<style scoped>\n",
       "    .dataframe tbody tr th:only-of-type {\n",
       "        vertical-align: middle;\n",
       "    }\n",
       "\n",
       "    .dataframe tbody tr th {\n",
       "        vertical-align: top;\n",
       "    }\n",
       "\n",
       "    .dataframe thead th {\n",
       "        text-align: right;\n",
       "    }\n",
       "</style>\n",
       "<table border=\"1\" class=\"dataframe\">\n",
       "  <thead>\n",
       "    <tr style=\"text-align: right;\">\n",
       "      <th></th>\n",
       "      <th>id</th>\n",
       "      <th>date</th>\n",
       "      <th>client_id</th>\n",
       "      <th>card_id</th>\n",
       "      <th>amount</th>\n",
       "      <th>use_chip</th>\n",
       "      <th>merchant_id</th>\n",
       "      <th>merchant_city</th>\n",
       "      <th>merchant_state</th>\n",
       "      <th>zip</th>\n",
       "      <th>mcc</th>\n",
       "      <th>errors</th>\n",
       "    </tr>\n",
       "  </thead>\n",
       "  <tbody>\n",
       "    <tr>\n",
       "      <th>10000</th>\n",
       "      <td>7487283</td>\n",
       "      <td>2010-01-04 06:14:00</td>\n",
       "      <td>1640</td>\n",
       "      <td>4967</td>\n",
       "      <td>$58.59</td>\n",
       "      <td>1</td>\n",
       "      <td>44873</td>\n",
       "      <td>Adrian</td>\n",
       "      <td>MI</td>\n",
       "      <td>49221.0</td>\n",
       "      <td>7230</td>\n",
       "      <td>NaN</td>\n",
       "    </tr>\n",
       "    <tr>\n",
       "      <th>10001</th>\n",
       "      <td>7487284</td>\n",
       "      <td>2010-01-04 06:15:00</td>\n",
       "      <td>798</td>\n",
       "      <td>5002</td>\n",
       "      <td>$40.94</td>\n",
       "      <td>1</td>\n",
       "      <td>10465</td>\n",
       "      <td>Murrieta</td>\n",
       "      <td>CA</td>\n",
       "      <td>92563.0</td>\n",
       "      <td>7922</td>\n",
       "      <td>NaN</td>\n",
       "    </tr>\n",
       "    <tr>\n",
       "      <th>10002</th>\n",
       "      <td>7487287</td>\n",
       "      <td>2010-01-04 06:16:00</td>\n",
       "      <td>511</td>\n",
       "      <td>4707</td>\n",
       "      <td>$2.80</td>\n",
       "      <td>1</td>\n",
       "      <td>61195</td>\n",
       "      <td>Tucson</td>\n",
       "      <td>AZ</td>\n",
       "      <td>85711.0</td>\n",
       "      <td>5541</td>\n",
       "      <td>NaN</td>\n",
       "    </tr>\n",
       "    <tr>\n",
       "      <th>10003</th>\n",
       "      <td>7487288</td>\n",
       "      <td>2010-01-04 06:16:00</td>\n",
       "      <td>1437</td>\n",
       "      <td>5818</td>\n",
       "      <td>$0.97</td>\n",
       "      <td>1</td>\n",
       "      <td>86438</td>\n",
       "      <td>Belfair</td>\n",
       "      <td>WA</td>\n",
       "      <td>98528.0</td>\n",
       "      <td>5499</td>\n",
       "      <td>NaN</td>\n",
       "    </tr>\n",
       "    <tr>\n",
       "      <th>10004</th>\n",
       "      <td>7487290</td>\n",
       "      <td>2010-01-04 06:16:00</td>\n",
       "      <td>1895</td>\n",
       "      <td>2119</td>\n",
       "      <td>$17.16</td>\n",
       "      <td>1</td>\n",
       "      <td>20519</td>\n",
       "      <td>Burlington</td>\n",
       "      <td>NJ</td>\n",
       "      <td>8016.0</td>\n",
       "      <td>5942</td>\n",
       "      <td>NaN</td>\n",
       "    </tr>\n",
       "    <tr>\n",
       "      <th>...</th>\n",
       "      <td>...</td>\n",
       "      <td>...</td>\n",
       "      <td>...</td>\n",
       "      <td>...</td>\n",
       "      <td>...</td>\n",
       "      <td>...</td>\n",
       "      <td>...</td>\n",
       "      <td>...</td>\n",
       "      <td>...</td>\n",
       "      <td>...</td>\n",
       "      <td>...</td>\n",
       "      <td>...</td>\n",
       "    </tr>\n",
       "    <tr>\n",
       "      <th>10095</th>\n",
       "      <td>7487402</td>\n",
       "      <td>2010-01-04 06:45:00</td>\n",
       "      <td>61</td>\n",
       "      <td>2622</td>\n",
       "      <td>$108.75</td>\n",
       "      <td>1</td>\n",
       "      <td>11468</td>\n",
       "      <td>Middletown</td>\n",
       "      <td>NY</td>\n",
       "      <td>10940.0</td>\n",
       "      <td>5970</td>\n",
       "      <td>NaN</td>\n",
       "    </tr>\n",
       "    <tr>\n",
       "      <th>10096</th>\n",
       "      <td>7487403</td>\n",
       "      <td>2010-01-04 06:45:00</td>\n",
       "      <td>364</td>\n",
       "      <td>4623</td>\n",
       "      <td>$100.21</td>\n",
       "      <td>1</td>\n",
       "      <td>60569</td>\n",
       "      <td>Louisville</td>\n",
       "      <td>TN</td>\n",
       "      <td>37777.0</td>\n",
       "      <td>5300</td>\n",
       "      <td>NaN</td>\n",
       "    </tr>\n",
       "    <tr>\n",
       "      <th>10097</th>\n",
       "      <td>7487404</td>\n",
       "      <td>2010-01-04 06:45:00</td>\n",
       "      <td>702</td>\n",
       "      <td>3863</td>\n",
       "      <td>$16.74</td>\n",
       "      <td>1</td>\n",
       "      <td>20561</td>\n",
       "      <td>Huntington Station</td>\n",
       "      <td>NY</td>\n",
       "      <td>11746.0</td>\n",
       "      <td>5912</td>\n",
       "      <td>NaN</td>\n",
       "    </tr>\n",
       "    <tr>\n",
       "      <th>10098</th>\n",
       "      <td>7487405</td>\n",
       "      <td>2010-01-04 06:45:00</td>\n",
       "      <td>996</td>\n",
       "      <td>4661</td>\n",
       "      <td>$1.89</td>\n",
       "      <td>1</td>\n",
       "      <td>35451</td>\n",
       "      <td>Hollywood</td>\n",
       "      <td>FL</td>\n",
       "      <td>33024.0</td>\n",
       "      <td>5812</td>\n",
       "      <td>NaN</td>\n",
       "    </tr>\n",
       "    <tr>\n",
       "      <th>10099</th>\n",
       "      <td>7487406</td>\n",
       "      <td>2010-01-04 06:45:00</td>\n",
       "      <td>1100</td>\n",
       "      <td>5079</td>\n",
       "      <td>$23.44</td>\n",
       "      <td>1</td>\n",
       "      <td>30286</td>\n",
       "      <td>Levittown</td>\n",
       "      <td>NY</td>\n",
       "      <td>11756.0</td>\n",
       "      <td>4814</td>\n",
       "      <td>NaN</td>\n",
       "    </tr>\n",
       "  </tbody>\n",
       "</table>\n",
       "<p>100 rows × 12 columns</p>\n",
       "</div>"
      ],
      "text/plain": [
       "            id                 date  client_id  card_id   amount use_chip  \\\n",
       "10000  7487283  2010-01-04 06:14:00       1640     4967   $58.59        1   \n",
       "10001  7487284  2010-01-04 06:15:00        798     5002   $40.94        1   \n",
       "10002  7487287  2010-01-04 06:16:00        511     4707    $2.80        1   \n",
       "10003  7487288  2010-01-04 06:16:00       1437     5818    $0.97        1   \n",
       "10004  7487290  2010-01-04 06:16:00       1895     2119   $17.16        1   \n",
       "...        ...                  ...        ...      ...      ...      ...   \n",
       "10095  7487402  2010-01-04 06:45:00         61     2622  $108.75        1   \n",
       "10096  7487403  2010-01-04 06:45:00        364     4623  $100.21        1   \n",
       "10097  7487404  2010-01-04 06:45:00        702     3863   $16.74        1   \n",
       "10098  7487405  2010-01-04 06:45:00        996     4661    $1.89        1   \n",
       "10099  7487406  2010-01-04 06:45:00       1100     5079   $23.44        1   \n",
       "\n",
       "       merchant_id       merchant_city merchant_state      zip   mcc errors  \n",
       "10000        44873              Adrian             MI  49221.0  7230    NaN  \n",
       "10001        10465            Murrieta             CA  92563.0  7922    NaN  \n",
       "10002        61195              Tucson             AZ  85711.0  5541    NaN  \n",
       "10003        86438             Belfair             WA  98528.0  5499    NaN  \n",
       "10004        20519          Burlington             NJ   8016.0  5942    NaN  \n",
       "...            ...                 ...            ...      ...   ...    ...  \n",
       "10095        11468          Middletown             NY  10940.0  5970    NaN  \n",
       "10096        60569          Louisville             TN  37777.0  5300    NaN  \n",
       "10097        20561  Huntington Station             NY  11746.0  5912    NaN  \n",
       "10098        35451           Hollywood             FL  33024.0  5812    NaN  \n",
       "10099        30286           Levittown             NY  11756.0  4814    NaN  \n",
       "\n",
       "[100 rows x 12 columns]"
      ]
     },
     "execution_count": 75,
     "metadata": {},
     "output_type": "execute_result"
    }
   ],
   "source": [
    "df[10000:10100]"
   ]
  },
  {
   "cell_type": "code",
   "execution_count": null,
   "id": "9b0ab824-1421-4fcc-8128-aee6a229cc00",
   "metadata": {},
   "outputs": [],
   "source": [
    "1, 3, 5, 7, 9, 11, 13, 15, \n",
    "\n",
    "1, 2, 3, 4, 5, 6, 7, 8, 9"
   ]
  }
 ],
 "metadata": {
  "kernelspec": {
   "display_name": "Python 3 (ipykernel)",
   "language": "python",
   "name": "python3"
  },
  "language_info": {
   "codemirror_mode": {
    "name": "ipython",
    "version": 3
   },
   "file_extension": ".py",
   "mimetype": "text/x-python",
   "name": "python",
   "nbconvert_exporter": "python",
   "pygments_lexer": "ipython3",
   "version": "3.11.5"
  }
 },
 "nbformat": 4,
 "nbformat_minor": 5
}
