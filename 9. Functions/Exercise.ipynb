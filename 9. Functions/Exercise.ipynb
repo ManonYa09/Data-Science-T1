{
 "cells": [
  {
   "cell_type": "code",
   "execution_count": null,
   "id": "b9c6a9f2-7a81-4ccb-85e4-5784d1f24e76",
   "metadata": {},
   "outputs": [],
   "source": [
    "import Pandas as pd"
   ]
  },
  {
   "cell_type": "code",
   "execution_count": null,
   "id": "d4ffd23f-0ba6-4049-8369-8f15ecf2c6cf",
   "metadata": {},
   "outputs": [],
   "source": [
    "df = pd.rea('https://raw.githubusercontent.com/ManonYa09/Fundametal_Data_Science_G8/refs/heads/main/Dataset/3.%20housing_data.csv')"
   ]
  },
  {
   "cell_type": "code",
   "execution_count": null,
   "id": "1c604aa6-e7b5-497f-a875-014c407cc314",
   "metadata": {},
   "outputs": [],
   "source": [
    "df.inf(0)"
   ]
  },
  {
   "cell_type": "code",
   "execution_count": null,
   "id": "1c622a37-83c1-4f20-936a-dc346d2ba2d7",
   "metadata": {},
   "outputs": [],
   "source": [
    "df.descri()"
   ]
  },
  {
   "cell_type": "code",
   "execution_count": null,
   "id": "64c0992d-06a1-4f40-b45f-0be04a566e2a",
   "metadata": {},
   "outputs": [],
   "source": [
    "df.iloc()"
   ]
  },
  {
   "cell_type": "code",
   "execution_count": null,
   "id": "484ee972-5c8f-4346-b649-4422c4fd4c3f",
   "metadata": {},
   "outputs": [],
   "source": [
    "df.loc()"
   ]
  },
  {
   "cell_type": "code",
   "execution_count": null,
   "id": "cbb0922e-579e-4867-ab98-522dca537dff",
   "metadata": {},
   "outputs": [],
   "source": [
    "df.isnaa.sum()"
   ]
  },
  {
   "cell_type": "code",
   "execution_count": null,
   "id": "ceee67ac-3df5-42ea-89be-1ec049857e05",
   "metadata": {},
   "outputs": [],
   "source": [
    "df.to_csw()"
   ]
  },
  {
   "cell_type": "code",
   "execution_count": null,
   "id": "921b4eec-1796-497e-9447-b8325dd88e59",
   "metadata": {},
   "outputs": [],
   "source": [
    "df.toecel()"
   ]
  },
  {
   "cell_type": "markdown",
   "id": "a8e309a7-2012-4ff5-9991-43f8ca408603",
   "metadata": {},
   "source": [
    "1. Display the top 5 rows of the dataset where the index is divisible by 7.\n",
    "\n",
    "2. Check the last row where the index is divisible by 8 in the dataset.\n",
    "\n"
   ]
  },
  {
   "cell_type": "markdown",
   "id": "dedfe548-5628-498b-87f9-4c2c5b1c8e1a",
   "metadata": {},
   "source": [
    "3. Exercises\n",
    "\n",
    "    a. Check Datatype of Each Column\n",
    "    \n",
    "    b. How many rows and columns are there in our Dataset?\n",
    "4. Missing values\n",
    "    - Which columns in the dataset contain missing values, and how many missing values are in each?\n",
    "    - What is the percentage of missing values in each column?\n",
    "    - Please remove the missing values.\n",
    "    - After removing the rows with missing values, save the cleaned dataset as 'final_data.csv' for providing to stakeholders."
   ]
  },
  {
   "cell_type": "markdown",
   "id": "1c063872-0820-40ea-888c-dcd2da94112b",
   "metadata": {},
   "source": [
    "5. Display the top six highest values in the 'median_active_list_price' column.\n",
    "\n",
    "6. Count the number of counties in California (CA) within the dataset. Save this county in a new sheet and export the corresponding data to an Excel file.\n",
    "\n",
    "7. Determine the number of regions available for specific states such as Virginia (VA), Tennessee (TN), District of Columbia (DC), California (CA), etc. Use the state name as the sheet name and save the corresponding data to an Excel file."
   ]
  }
 ],
 "metadata": {
  "kernelspec": {
   "display_name": "Python 3 (ipykernel)",
   "language": "python",
   "name": "python3"
  },
  "language_info": {
   "codemirror_mode": {
    "name": "ipython",
    "version": 3
   },
   "file_extension": ".py",
   "mimetype": "text/x-python",
   "name": "python",
   "nbconvert_exporter": "python",
   "pygments_lexer": "ipython3",
   "version": "3.11.5"
  }
 },
 "nbformat": 4,
 "nbformat_minor": 5
}
