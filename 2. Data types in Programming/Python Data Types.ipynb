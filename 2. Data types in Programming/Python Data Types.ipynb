{
 "cells": [
  {
   "cell_type": "markdown",
   "id": "9f983cb9-77bb-4a61-88be-a784bf312409",
   "metadata": {},
   "source": [
    "## 1. Numberic"
   ]
  },
  {
   "cell_type": "markdown",
   "id": "a6621c99-d7b7-48f0-91bc-ee5356583425",
   "metadata": {},
   "source": [
    "#### 1.1 Integer"
   ]
  },
  {
   "cell_type": "code",
   "execution_count": null,
   "id": "345cd0d8-5692-452e-b4b2-ce389d420fd9",
   "metadata": {},
   "outputs": [],
   "source": [
    "## Function, sum()"
   ]
  },
  {
   "cell_type": "code",
   "execution_count": 2,
   "id": "028faca8-5259-49b4-affb-475c8897063d",
   "metadata": {},
   "outputs": [
    {
     "data": {
      "text/plain": [
       "int"
      ]
     },
     "execution_count": 2,
     "metadata": {},
     "output_type": "execute_result"
    }
   ],
   "source": [
    "type(12) ## int"
   ]
  },
  {
   "cell_type": "code",
   "execution_count": 18,
   "id": "8622676f-c234-4c23-9379-45d18685bbcb",
   "metadata": {},
   "outputs": [
    {
     "data": {
      "text/plain": [
       "int"
      ]
     },
     "execution_count": 18,
     "metadata": {},
     "output_type": "execute_result"
    }
   ],
   "source": [
    "type(1) #integer"
   ]
  },
  {
   "cell_type": "code",
   "execution_count": 12,
   "id": "993892d3-5217-4a59-ae53-f6b5abe86234",
   "metadata": {},
   "outputs": [
    {
     "data": {
      "text/plain": [
       "int"
      ]
     },
     "execution_count": 12,
     "metadata": {},
     "output_type": "execute_result"
    }
   ],
   "source": [
    "type(-1)"
   ]
  },
  {
   "cell_type": "code",
   "execution_count": 14,
   "id": "811ae7ad-df99-4f90-9124-02464a213e04",
   "metadata": {},
   "outputs": [
    {
     "data": {
      "text/plain": [
       "int"
      ]
     },
     "execution_count": 14,
     "metadata": {},
     "output_type": "execute_result"
    }
   ],
   "source": [
    "type(3)"
   ]
  },
  {
   "cell_type": "code",
   "execution_count": 16,
   "id": "c3d5ae29-bce7-46e7-bac6-0d7385e8133a",
   "metadata": {},
   "outputs": [
    {
     "data": {
      "text/plain": [
       "341398612353164"
      ]
     },
     "execution_count": 16,
     "metadata": {},
     "output_type": "execute_result"
    }
   ],
   "source": [
    "341398612353164"
   ]
  },
  {
   "cell_type": "markdown",
   "id": "e953546c-7d17-4296-9c4c-3d3522e7b862",
   "metadata": {},
   "source": [
    "### 1.2 float"
   ]
  },
  {
   "cell_type": "code",
   "execution_count": 23,
   "id": "812cb55e-25ac-4299-937f-ec5e15a85086",
   "metadata": {},
   "outputs": [
    {
     "data": {
      "text/plain": [
       "float"
      ]
     },
     "execution_count": 23,
     "metadata": {},
     "output_type": "execute_result"
    }
   ],
   "source": [
    "type(2.3)"
   ]
  },
  {
   "cell_type": "code",
   "execution_count": 25,
   "id": "a5ad25bc-b9a3-4deb-866d-8f5fb1da8520",
   "metadata": {},
   "outputs": [
    {
     "data": {
      "text/plain": [
       "float"
      ]
     },
     "execution_count": 25,
     "metadata": {},
     "output_type": "execute_result"
    }
   ],
   "source": [
    "type(2.0)"
   ]
  },
  {
   "cell_type": "code",
   "execution_count": 27,
   "id": "0b1b22b2-95a4-4895-a338-dcbced456916",
   "metadata": {},
   "outputs": [
    {
     "data": {
      "text/plain": [
       "float"
      ]
     },
     "execution_count": 27,
     "metadata": {},
     "output_type": "execute_result"
    }
   ],
   "source": [
    "type(3/4)"
   ]
  },
  {
   "cell_type": "code",
   "execution_count": 29,
   "id": "9a0d9209-213f-4c3f-a069-e3541e2ed4cb",
   "metadata": {},
   "outputs": [
    {
     "data": {
      "text/plain": [
       "float"
      ]
     },
     "execution_count": 29,
     "metadata": {},
     "output_type": "execute_result"
    }
   ],
   "source": [
    "type(4/2)"
   ]
  },
  {
   "cell_type": "markdown",
   "id": "8236631a-fba1-4cd1-bb43-f124f2b92767",
   "metadata": {},
   "source": [
    "### 1.3 Complex number"
   ]
  },
  {
   "cell_type": "code",
   "execution_count": 32,
   "id": "10eda126-1901-4584-9d3c-2fbe176ddaa9",
   "metadata": {},
   "outputs": [],
   "source": [
    "## a + bi: a+bj"
   ]
  },
  {
   "cell_type": "code",
   "execution_count": 41,
   "id": "2d5be900-238e-4dee-a51b-9c923db8a75b",
   "metadata": {},
   "outputs": [
    {
     "data": {
      "text/plain": [
       "complex"
      ]
     },
     "execution_count": 41,
     "metadata": {},
     "output_type": "execute_result"
    }
   ],
   "source": [
    "type(1+ 3j) # complex number\n"
   ]
  },
  {
   "cell_type": "markdown",
   "id": "f51fa11b-e898-4303-92ed-fbb845cba966",
   "metadata": {},
   "source": [
    "## 2. Text : String"
   ]
  },
  {
   "cell_type": "code",
   "execution_count": 44,
   "id": "125048cf-949e-429f-916b-425e97080065",
   "metadata": {},
   "outputs": [],
   "source": [
    "'', \" \", ''' ''', \"\"\" \"\"\""
   ]
  },
  {
   "cell_type": "code",
   "execution_count": 6,
   "id": "7390bfe5-3a14-4980-af3d-3f775fb9919c",
   "metadata": {},
   "outputs": [
    {
     "data": {
      "text/plain": [
       "'Hello world'"
      ]
     },
     "execution_count": 6,
     "metadata": {},
     "output_type": "execute_result"
    }
   ],
   "source": [
    "\"Hello world\""
   ]
  },
  {
   "cell_type": "code",
   "execution_count": 4,
   "id": "ebb490e8-9b92-433c-82c8-f3b009cec43d",
   "metadata": {},
   "outputs": [
    {
     "ename": "SyntaxError",
     "evalue": "invalid syntax (3150122343.py, line 2)",
     "output_type": "error",
     "traceback": [
      "\u001b[0;36m  Cell \u001b[0;32mIn[4], line 2\u001b[0;36m\u001b[0m\n\u001b[0;31m    Hello world\u001b[0m\n\u001b[0m          ^\u001b[0m\n\u001b[0;31mSyntaxError\u001b[0m\u001b[0;31m:\u001b[0m invalid syntax\n"
     ]
    }
   ],
   "source": [
    "'Hello world'\n",
    "Hello world"
   ]
  },
  {
   "cell_type": "code",
   "execution_count": 48,
   "id": "50c546e1-3ab0-412b-b820-68d077e03b7f",
   "metadata": {},
   "outputs": [
    {
     "data": {
      "text/plain": [
       "str"
      ]
     },
     "execution_count": 48,
     "metadata": {},
     "output_type": "execute_result"
    }
   ],
   "source": [
    "type('Hello world') # str : string\n"
   ]
  },
  {
   "cell_type": "code",
   "execution_count": null,
   "id": "3228a7e2-7faf-4a05-afac-195133e7ed44",
   "metadata": {},
   "outputs": [],
   "source": [
    "x = 1"
   ]
  },
  {
   "cell_type": "code",
   "execution_count": null,
   "id": "70df64a1-b27f-4204-9357-1e179e25625d",
   "metadata": {},
   "outputs": [],
   "source": [
    "x + 1"
   ]
  },
  {
   "cell_type": "code",
   "execution_count": null,
   "id": "d53c23ff-2e19-46b8-a59f-8b8cc007ab59",
   "metadata": {},
   "outputs": [],
   "source": []
  },
  {
   "cell_type": "code",
   "execution_count": 50,
   "id": "df45865b-91ea-465d-8dbd-fed82f1b6058",
   "metadata": {},
   "outputs": [
    {
     "data": {
      "text/plain": [
       "str"
      ]
     },
     "execution_count": 50,
     "metadata": {},
     "output_type": "execute_result"
    }
   ],
   "source": [
    "type(\"Hello world\") # str : string"
   ]
  },
  {
   "cell_type": "code",
   "execution_count": 54,
   "id": "52f098f9-5482-4d82-ad5e-07776a3d715b",
   "metadata": {},
   "outputs": [
    {
     "ename": "SyntaxError",
     "evalue": "invalid syntax (491234423.py, line 1)",
     "output_type": "error",
     "traceback": [
      "\u001b[0;36m  Cell \u001b[0;32mIn[54], line 1\u001b[0;36m\u001b[0m\n\u001b[0;31m    Hello world ## Error : SyntaxError\u001b[0m\n\u001b[0m          ^\u001b[0m\n\u001b[0;31mSyntaxError\u001b[0m\u001b[0;31m:\u001b[0m invalid syntax\n"
     ]
    }
   ],
   "source": [
    "Hello world ## Error : SyntaxError "
   ]
  },
  {
   "cell_type": "code",
   "execution_count": 56,
   "id": "57e23539-ae24-4792-8428-85f0d5370ac6",
   "metadata": {},
   "outputs": [],
   "source": [
    "import pandas as pd"
   ]
  },
  {
   "cell_type": "code",
   "execution_count": 58,
   "id": "2c0f5572-35fe-43ea-99d5-57be2e079fde",
   "metadata": {},
   "outputs": [],
   "source": [
    "df = pd.read_csv('/Users/macbook/Downloads/archive (1) 2/transactions_data.csv')"
   ]
  },
  {
   "cell_type": "code",
   "execution_count": 64,
   "id": "aa358e33-d2fd-4f35-81e6-d11ddba1f0b9",
   "metadata": {},
   "outputs": [
    {
     "data": {
      "text/plain": [
       "635008336371"
      ]
     },
     "execution_count": 64,
     "metadata": {},
     "output_type": "execute_result"
    }
   ],
   "source": [
    "df['merchant_id'].sum()"
   ]
  },
  {
   "cell_type": "code",
   "execution_count": 66,
   "id": "155e5077-5db0-4d51-8e3f-cd0dd2421f2e",
   "metadata": {
    "scrolled": true
   },
   "outputs": [
    {
     "data": {
      "text/plain": [
       "count    1.330592e+07\n",
       "mean     4.772376e+04\n",
       "std      2.581534e+04\n",
       "min      1.000000e+00\n",
       "25%      2.588700e+04\n",
       "50%      4.592600e+04\n",
       "75%      6.757000e+04\n",
       "max      1.003420e+05\n",
       "Name: merchant_id, dtype: float64"
      ]
     },
     "execution_count": 66,
     "metadata": {},
     "output_type": "execute_result"
    }
   ],
   "source": [
    "df['merchant_id'].describe()"
   ]
  },
  {
   "cell_type": "code",
   "execution_count": 84,
   "id": "bf50630f-32d9-4b7d-b81e-e02fac2fa58c",
   "metadata": {},
   "outputs": [
    {
     "data": {
      "text/plain": [
       "id                  int64\n",
       "date               object\n",
       "client_id           int64\n",
       "card_id             int64\n",
       "amount             object\n",
       "use_chip           object\n",
       "merchant_id         int64\n",
       "merchant_city      object\n",
       "merchant_state     object\n",
       "zip               float64\n",
       "mcc                 int64\n",
       "errors             object\n",
       "dtype: object"
      ]
     },
     "execution_count": 84,
     "metadata": {},
     "output_type": "execute_result"
    }
   ],
   "source": [
    "df.dtypes # text : string: object: "
   ]
  },
  {
   "cell_type": "code",
   "execution_count": 82,
   "id": "b5f6abd2-3594-42bd-a61b-e8be714c4014",
   "metadata": {},
   "outputs": [
    {
     "data": {
      "text/plain": [
       "id                       0\n",
       "date                     0\n",
       "client_id                0\n",
       "card_id                  0\n",
       "amount                   0\n",
       "use_chip                 0\n",
       "merchant_id              0\n",
       "merchant_city            0\n",
       "merchant_state     1563700\n",
       "zip                1652706\n",
       "mcc                      0\n",
       "errors            13094522\n",
       "dtype: int64"
      ]
     },
     "execution_count": 82,
     "metadata": {},
     "output_type": "execute_result"
    }
   ],
   "source": [
    "df.isnull().sum()"
   ]
  },
  {
   "cell_type": "code",
   "execution_count": 80,
   "id": "b1f38223-9d18-4eaf-a8a0-881568a0cd2a",
   "metadata": {},
   "outputs": [],
   "source": [
    "df[df['merchant_id']>100000].to_excel('testing.xlsx')"
   ]
  },
  {
   "cell_type": "code",
   "execution_count": 70,
   "id": "ab06e95f-41c9-4561-8a4d-407963493333",
   "metadata": {},
   "outputs": [],
   "source": [
    "# df['merchant_id'].hist()\n"
   ]
  },
  {
   "cell_type": "code",
   "execution_count": null,
   "id": "3b9ebda7-508b-4cd7-986e-551a5a56be57",
   "metadata": {},
   "outputs": [],
   "source": []
  }
 ],
 "metadata": {
  "kernelspec": {
   "display_name": "Python 3 (ipykernel)",
   "language": "python",
   "name": "python3"
  },
  "language_info": {
   "codemirror_mode": {
    "name": "ipython",
    "version": 3
   },
   "file_extension": ".py",
   "mimetype": "text/x-python",
   "name": "python",
   "nbconvert_exporter": "python",
   "pygments_lexer": "ipython3",
   "version": "3.11.5"
  }
 },
 "nbformat": 4,
 "nbformat_minor": 5
}
